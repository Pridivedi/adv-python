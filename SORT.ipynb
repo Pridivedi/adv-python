{
 "cells": [
  {
   "cell_type": "code",
   "execution_count": 1,
   "id": "16a21354-72f6-4c0a-a974-5d5500e59428",
   "metadata": {},
   "outputs": [
    {
     "name": "stdout",
     "output_type": "stream",
     "text": [
      "[8, 9, 7, 6]\n",
      "[8, 7, 9, 6]\n",
      "[8, 7, 6, 9]\n",
      "[7, 8, 6, 9]\n",
      "[7, 6, 8, 9]\n",
      "[6, 7, 8, 9]\n"
     ]
    }
   ],
   "source": [
    "#BUBBLE SORT\n",
    "arr=[9,8,7,6]\n",
    "n=len(arr)\n",
    "for i in range(n-1):\n",
    "    for j in range(n-1-i):\n",
    "        if arr[j]>arr[j+1]:\n",
    "            arr[j],arr[j+1]=arr[j+1],arr[j]\n",
    "            print(arr)"
   ]
  },
  {
   "cell_type": "code",
   "execution_count": null,
   "id": "9edd6ba6-4d26-4133-b8ba-9d15fb736c2b",
   "metadata": {},
   "outputs": [],
   "source": []
  }
 ],
 "metadata": {
  "kernelspec": {
   "display_name": "Python 3 (ipykernel)",
   "language": "python",
   "name": "python3"
  },
  "language_info": {
   "codemirror_mode": {
    "name": "ipython",
    "version": 3
   },
   "file_extension": ".py",
   "mimetype": "text/x-python",
   "name": "python",
   "nbconvert_exporter": "python",
   "pygments_lexer": "ipython3",
   "version": "3.12.4"
  }
 },
 "nbformat": 4,
 "nbformat_minor": 5
}
